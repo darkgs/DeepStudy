{
 "cells": [
  {
   "cell_type": "code",
   "execution_count": 1,
   "metadata": {},
   "outputs": [
    {
     "name": "stdout",
     "output_type": "stream",
     "text": [
      "Loads pre-trained model - success\n"
     ]
    },
    {
     "data": {
      "text/plain": [
       "670"
      ]
     },
     "execution_count": 1,
     "metadata": {},
     "output_type": "execute_result"
    }
   ],
   "source": [
    "from vae import VAE\n",
    "from mnist import MNIST\n",
    "\n",
    "params = {\n",
    "    'batch_size': 128,\n",
    "    'lr': 1e-3,\n",
    "}\n",
    "mnist = MNIST(model=VAE(), params=params)\n",
    "mnist.load()"
   ]
  },
  {
   "cell_type": "code",
   "execution_count": 13,
   "metadata": {},
   "outputs": [],
   "source": [
    "import matplotlib\n",
    "import matplotlib.pyplot as plt\n",
    "import matplotlib.gridspec as gridspec\n",
    "\n",
    "def show_images(images_to_show):\n",
    "    plt.figure(figsize=(2, 8))\n",
    "    grid = gridspec.GridSpec(len(images_to_show), len(images_to_show[0]),\n",
    "                             top=1., bottom=0., right=1., left=0.,\n",
    "                             wspace=0.0, hspace=0.0)\n",
    "    for i, image_l in enumerate(images_to_show):\n",
    "        for j, image in enumerate(image_l):\n",
    "            ax = plt.subplot(grid[i,j])\n",
    "            ax.imshow(image, cmap='gray')\n",
    "            ax.set_xticks([])\n",
    "            ax.set_yticks([])\n",
    "            ax.set_aspect('auto')"
   ]
  },
  {
   "cell_type": "code",
   "execution_count": 14,
   "metadata": {},
   "outputs": [
    {
     "name": "stdout",
     "output_type": "stream",
     "text": [
      "torch.Size([28, 28])\n"
     ]
    },
    {
     "data": {
      "image/png": "[encoded data removed]",
      "text/plain": [
       "<Figure size 144x576 with 1 Axes>"
      ]
     },
     "metadata": {},
     "output_type": "display_data"
    }
   ],
   "source": [
    "images_to_show = []\n",
    "for _ in range(10):\n",
    "    img_ori, img_gen = mnist.test()\n",
    "    images_to_show.append()\n",
    "show_images([[img_ori, img_gen]])"
   ]
  },
  {
   "cell_type": "code",
   "execution_count": null,
   "metadata": {},
   "outputs": [],
   "source": []
  }
 ],
 "metadata": {
  "kernelspec": {
   "display_name": "Python 3",
   "language": "python",
   "name": "python3"
  },
  "language_info": {
   "codemirror_mode": {
    "name": "ipython",
    "version": 3
   },
   "file_extension": ".py",
   "mimetype": "text/x-python",
   "name": "python",
   "nbconvert_exporter": "python",
   "pygments_lexer": "ipython3",
   "version": "3.5.2"
  }
 },
 "nbformat": 4,
 "nbformat_minor": 2
}
