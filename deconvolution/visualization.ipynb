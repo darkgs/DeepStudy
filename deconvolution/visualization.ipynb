{
 "cells": [
  {
   "cell_type": "code",
   "execution_count": 56,
   "metadata": {},
   "outputs": [],
   "source": [
    "import matplotlib\n",
    "import matplotlib.pyplot as plt\n",
    "import matplotlib.gridspec as gridspec\n",
    "\n",
    "def show_images(images_to_show):\n",
    "    plt.figure(figsize=(4, 16))\n",
    "    grid = gridspec.GridSpec(len(images_to_show), len(images_to_show[0]),\n",
    "                             top=1., bottom=0., right=1., left=0.,\n",
    "                             wspace=0.0, hspace=0.0)\n",
    "    for i, image_l in enumerate(images_to_show):\n",
    "        for j, image in enumerate(image_l):\n",
    "            ax = plt.subplot(grid[i,j])\n",
    "            ax.imshow(image)\n",
    "            ax.set_xticks([])\n",
    "            ax.set_yticks([])\n",
    "            ax.set_aspect('auto')\n",
    "#            subplot = fig.add_subplot(grid[i,j])\n",
    "#            subplot.imshow(image)\n",
    "#            subplot.axis('off')"
   ]
  },
  {
   "cell_type": "code",
   "execution_count": 25,
   "metadata": {
    "scrolled": true
   },
   "outputs": [
    {
     "name": "stdout",
     "output_type": "stream",
     "text": [
      "Loads pre-trained model - success\n"
     ]
    },
    {
     "data": {
      "text/plain": [
       "101"
      ]
     },
     "execution_count": 25,
     "metadata": {},
     "output_type": "execute_result"
    }
   ],
   "source": [
    "from cifar10 import Cifar10_CNN\n",
    "\n",
    "model = Cifar10_CNN()\n",
    "model.load()"
   ]
  },
  {
   "cell_type": "code",
   "execution_count": null,
   "metadata": {
    "scrolled": false
   },
   "outputs": [],
   "source": [
    "images_to_show = []\n",
    "for _ in range(10):\n",
    "    ori, deconvs, deconvs2 = model.deconvolution(topk=1, topk2=20)\n",
    "    images_to_show += [[ori] + deconvs, [ori] + deconvs2]\n",
    "show_images(images_to_show)"
   ]
  },
  {
   "cell_type": "code",
   "execution_count": null,
   "metadata": {},
   "outputs": [],
   "source": []
  }
 ],
 "metadata": {
  "kernelspec": {
   "display_name": "Python 3",
   "language": "python",
   "name": "python3"
  },
  "language_info": {
   "codemirror_mode": {
    "name": "ipython",
    "version": 3
   },
   "file_extension": ".py",
   "mimetype": "text/x-python",
   "name": "python",
   "nbconvert_exporter": "python",
   "pygments_lexer": "ipython3",
   "version": "3.5.2"
  }
 },
 "nbformat": 4,
 "nbformat_minor": 2
}
